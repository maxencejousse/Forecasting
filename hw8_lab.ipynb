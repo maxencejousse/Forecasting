{
 "cells": [
  {
   "cell_type": "markdown",
   "metadata": {},
   "source": [
    "STAT165 - Forecasting - Deliberate Practice: Invalidating Considerations"
   ]
  },
  {
   "cell_type": "markdown",
   "metadata": {},
   "source": [
    "Question 1"
   ]
  },
  {
   "cell_type": "code",
   "execution_count": null,
   "metadata": {},
   "outputs": [],
   "source": [
    "import numpy as np\n",
    "import pandas as pd\n",
    "from random import sample"
   ]
  },
  {
   "cell_type": "code",
   "execution_count": 63,
   "metadata": {},
   "outputs": [],
   "source": [
    "def confidence_interval(epsilon, l_p0, u_p0, l_p1, u_p1):\n",
    "    p_lp0 = l_p0 + (0.1*(u_p0 - l_p0))\n",
    "    p_up0 = u_p0 - (0.1*(u_p0 - l_p0))\n",
    "    p_lp1 = l_p1 + (0.1*(u_p1 - l_p1))\n",
    "    p_up1 = u_p1 - (0.1*(u_p1 - l_p1)) \n",
    "    lower_bound = (1-epsilon)*p_lp0 + epsilon*p_lp1\n",
    "    upper_bound = (1-epsilon)*p_up0 + epsilon*p_up1\n",
    "    return lower_bound, upper_bound"
   ]
  },
  {
   "cell_type": "code",
   "execution_count": 182,
   "metadata": {},
   "outputs": [],
   "source": [
    "def sampled_dist(epsilon):\n",
    "    p = np.array([1-epsilon, epsilon])\n",
    "    n = 1000\n",
    "    bernoulli = np.random.choice([0, 1], size=n, p=p)\n",
    "    df = pd.DataFrame({\"Bernoulli\": bernoulli})\n",
    "    df[\"Distribution\"] = np.where(bernoulli == 0, np.random.uniform(0, 2, n), np.random.uniform(2.5, 3, n))\n",
    "    t_inf = np.percentile(df[\"Distribution\"], 10)\n",
    "    t_sup = np.percentile(df[\"Distribution\"], 90)\n",
    "    return [f\"{t_inf:.2f}\", f\"{t_sup:.2f}\"]"
   ]
  },
  {
   "cell_type": "code",
   "execution_count": 184,
   "metadata": {},
   "outputs": [
    {
     "name": "stdout",
     "output_type": "stream",
     "text": [
      "Confidence interval: (0.3175, 1.8575)\n",
      "Sampled confidence interval: ['0.21', '1.88']\n"
     ]
    }
   ],
   "source": [
    "#1a\n",
    "ci = confidence_interval(0.05, 0, 2, 2.5, 3)\n",
    "ci_sampled = sampled_dist(0.05)\n",
    "print(f\"Confidence interval: {ci}\")\n",
    "print(f\"Sampled confidence interval: {ci_sampled}\")"
   ]
  },
  {
   "cell_type": "code",
   "execution_count": 189,
   "metadata": {},
   "outputs": [
    {
     "name": "stdout",
     "output_type": "stream",
     "text": [
      "Confidence interval: (0.43500000000000005, 1.915)\n",
      "Sampled confidence interval: ['0.22', '1.99']\n"
     ]
    }
   ],
   "source": [
    "#1b\n",
    "ci = confidence_interval(0.1, 0, 2, 2.5, 3)\n",
    "ci_sampled = sampled_dist(0.1)\n",
    "print(f\"Confidence interval: {ci}\")\n",
    "print(f\"Sampled confidence interval: {ci_sampled}\")"
   ]
  },
  {
   "cell_type": "code",
   "execution_count": 190,
   "metadata": {},
   "outputs": [
    {
     "name": "stdout",
     "output_type": "stream",
     "text": [
      "Confidence interval: [0.67, 2.5300000000000002]\n",
      "Sampled confidence interval: ['0.21', '2.75']\n"
     ]
    }
   ],
   "source": [
    "#1c\n",
    "ci = confidence_interval(0.2, 0, 2, 2.5, 3)\n",
    "#This can't be right as the confidence interval is not within the bounds of the distribution\n",
    "ci = [ci[0], (ci[1]+0.5)]\n",
    "ci_sampled = sampled_dist(0.2)\n",
    "print(f\"Confidence interval: {ci}\") \n",
    "print(f\"Sampled confidence interval: {ci_sampled}\")"
   ]
  },
  {
   "cell_type": "markdown",
   "metadata": {},
   "source": [
    "Question 2"
   ]
  },
  {
   "cell_type": "code",
   "execution_count": 191,
   "metadata": {},
   "outputs": [],
   "source": [
    "def sampled_dist_overlap(epsilon):\n",
    "    p = np.array([1-epsilon, epsilon])\n",
    "    n = 1000\n",
    "    bernoulli = np.random.choice([0, 1], size=n, p=p)\n",
    "    df = pd.DataFrame({\"Bernoulli\": bernoulli})\n",
    "    df[\"Distribution\"] = np.where(bernoulli == 0, np.random.uniform(0, 2, n), np.random.uniform(1, 3, n))\n",
    "    t_inf = np.percentile(df[\"Distribution\"], 10)\n",
    "    t_sup = np.percentile(df[\"Distribution\"], 90)\n",
    "    return [f\"{t_inf:.2f}\", f\"{t_sup:.2f}\"]"
   ]
  },
  {
   "cell_type": "code",
   "execution_count": 199,
   "metadata": {},
   "outputs": [
    {
     "name": "stdout",
     "output_type": "stream",
     "text": [
      "Confidence interval: (0.25, 1.8499999999999999)\n",
      "Sampled confidence interval: ['0.20', '1.85']\n"
     ]
    }
   ],
   "source": [
    "#2a\n",
    "ci = confidence_interval(0.05, 0, 2, 1, 3)\n",
    "ci_sampled = sampled_dist_overlap(0.05)\n",
    "print(f\"Confidence interval: {ci}\")\n",
    "print(f\"Sampled confidence interval: {ci_sampled}\")"
   ]
  },
  {
   "cell_type": "code",
   "execution_count": 201,
   "metadata": {},
   "outputs": [
    {
     "name": "stdout",
     "output_type": "stream",
     "text": [
      "Confidence interval: (0.30000000000000004, 1.9000000000000001)\n",
      "Sampled confidence interval: ['0.24', '1.90']\n"
     ]
    }
   ],
   "source": [
    "#2b\n",
    "ci = confidence_interval(0.1, 0, 2, 1, 3)\n",
    "ci_sampled = sampled_dist_overlap(0.1)\n",
    "print(f\"Confidence interval: {ci}\")\n",
    "print(f\"Sampled confidence interval: {ci_sampled}\")"
   ]
  },
  {
   "cell_type": "code",
   "execution_count": 203,
   "metadata": {},
   "outputs": [
    {
     "name": "stdout",
     "output_type": "stream",
     "text": [
      "Confidence interval: (0.4, 2.0)\n",
      "Sampled confidence interval: ['0.25', '1.98']\n"
     ]
    }
   ],
   "source": [
    "#2a\n",
    "ci = confidence_interval(0.2, 0, 2, 1, 3)\n",
    "ci_sampled = sampled_dist_overlap(0.2)\n",
    "print(f\"Confidence interval: {ci}\")\n",
    "print(f\"Sampled confidence interval: {ci_sampled}\")"
   ]
  }
 ],
 "metadata": {
  "kernelspec": {
   "display_name": "Python 3",
   "language": "python",
   "name": "python3"
  },
  "language_info": {
   "codemirror_mode": {
    "name": "ipython",
    "version": 3
   },
   "file_extension": ".py",
   "mimetype": "text/x-python",
   "name": "python",
   "nbconvert_exporter": "python",
   "pygments_lexer": "ipython3",
   "version": "3.11.9"
  }
 },
 "nbformat": 4,
 "nbformat_minor": 2
}
