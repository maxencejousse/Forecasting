{
 "cells": [
  {
   "cell_type": "markdown",
   "id": "fffda47f",
   "metadata": {
    "id": "fffda47f"
   },
   "source": [
    "# Stat 165/265 Homework 2 Lab: Proper and Improper Scoring Rules\n",
    "\n",
    "Scoring rules, or score functions, measure how good a probabilistic forecast is. As we saw in lecture, generally we want to use strictly proper scoring rules to compare forecasts, in order to extract people's true beliefs. This notebook will touch on a couple different scoring rules, both proper and improper, to explore how they differ and how improper rules can be \"gamed.\""
   ]
  },
  {
   "cell_type": "markdown",
   "id": "e8fe1560",
   "metadata": {
    "id": "e8fe1560"
   },
   "source": [
    "## Gradescope Submission\n",
    "To submit this assignment, rerun the notebook from scratch (by selecting Kernel > Restart & Run all), and then print as a pdf (File > download as > pdf) and submit it to Gradescope.\n",
    "\n",
    "\n",
    "**This assignment should be completed and submitted before Tuesday, February 4th, 2025 at 11:59 PM**"
   ]
  },
  {
   "cell_type": "markdown",
   "id": "e95daefb",
   "metadata": {
    "id": "e95daefb"
   },
   "source": [
    "# I. Naive Linear Score\n",
    "\n",
    "Imagine we have a biased coin that has a 60% chance of Heads and 40% chance of Tails and we ask forecasters to give a probability distribution for the outcome of the coin flip, i.e. a vector $q = (q_H, q_T)$ where $q_H + q_T = 1$. As mentioned in lecture, here's a simple linear score $f$ we could define:\n",
    "\n",
    "$$f(q, i) = q_i$$\n",
    "\n",
    "or in other words, you get $q_H$ points if the coin lands Heads and $q_T$ points if the coin lands Tails. To get a feel for this score, we've implemented an interactive widget below that outputs your average score over many coin flips, when you input a forecast for the probability of heads. Try it out for a few different forecasts and numbers of flips."
   ]
  },
  {
   "cell_type": "code",
   "execution_count": 93,
   "id": "9f73d2ed",
   "metadata": {
    "id": "9f73d2ed"
   },
   "outputs": [],
   "source": [
    "import numpy as np\n",
    "import matplotlib.pyplot as plt\n",
    "from ipywidgets import interact_manual\n",
    "import ipywidgets as widgets"
   ]
  },
  {
   "cell_type": "code",
   "execution_count": 94,
   "id": "904a912a",
   "metadata": {
    "id": "904a912a"
   },
   "outputs": [],
   "source": [
    "def submit_forecast(heads_forecast, num_flips):\n",
    "    flips = np.random.rand(num_flips)\n",
    "    heads = (flips < 0.6).sum()\n",
    "    tails = num_flips - heads\n",
    "    avg_score = (heads_forecast * heads + (1 - heads_forecast) * tails)/num_flips\n",
    "    return (f\"Score over {num_flips} coin flips: \", avg_score)"
   ]
  },
  {
   "cell_type": "code",
   "execution_count": 95,
   "id": "bd3703c6",
   "metadata": {
    "id": "bd3703c6"
   },
   "outputs": [
    {
     "data": {
      "application/vnd.jupyter.widget-view+json": {
       "model_id": "cdfd9d9c8b024d5c920f417946824bba",
       "version_major": 2,
       "version_minor": 0
      },
      "text/plain": [
       "interactive(children=(FloatSlider(value=0.5, description='heads_forecast', max=1.0, step=0.01), IntSlider(valu…"
      ]
     },
     "metadata": {},
     "output_type": "display_data"
    }
   ],
   "source": [
    "game = interact_manual(submit_forecast,\n",
    "                       heads_forecast=widgets.FloatSlider(min=0, max=1, step=.01, value=.5),\n",
    "                       num_flips=widgets.IntSlider(value=50))\n",
    "game;"
   ]
  },
  {
   "cell_type": "markdown",
   "id": "c987947e",
   "metadata": {
    "id": "c987947e"
   },
   "source": [
    "Over many coin flips, we can compute the expected score for any given vector $q$, which we've implemented below."
   ]
  },
  {
   "cell_type": "code",
   "execution_count": 96,
   "id": "f6adef31",
   "metadata": {
    "id": "f6adef31"
   },
   "outputs": [],
   "source": [
    "# Here we define a helper function to make sure that we're only working with valid probability distributions\n",
    "def check_distributions(q, true_dist):\n",
    "    assert(np.sum(q) == 1 and np.sum(true_dist) == 1), \"Probabilities must sum to 1.\"\n",
    "    assert(len(q) == len(true_dist))"
   ]
  },
  {
   "cell_type": "code",
   "execution_count": 97,
   "id": "78b90a08",
   "metadata": {
    "id": "78b90a08"
   },
   "outputs": [],
   "source": [
    "def expected_linear_score(q, true_dist):\n",
    "    check_distributions(q, true_dist)\n",
    "\n",
    "    return np.dot(q, true_dist)"
   ]
  },
  {
   "cell_type": "markdown",
   "id": "64b5b384",
   "metadata": {
    "id": "64b5b384"
   },
   "source": [
    "If you know that the coin is biased 60-40, and you want to get the highest score according to this linear score, what forecast should you give as your $q$? You could report $q = (0.6, 0.4)$ and we see that this gives an expected score of 0.52. Can you find a $q$ that does better than this?"
   ]
  },
  {
   "cell_type": "code",
   "execution_count": 98,
   "id": "4ee81333",
   "metadata": {
    "id": "4ee81333"
   },
   "outputs": [
    {
     "data": {
      "text/plain": [
       "0.52000000000000002"
      ]
     },
     "execution_count": 98,
     "metadata": {},
     "output_type": "execute_result"
    }
   ],
   "source": [
    "biased_coin = (0.6, 0.4)\n",
    "\n",
    "q = (0.6, 0.4)\n",
    "expected_linear_score(q, biased_coin)"
   ]
  },
  {
   "cell_type": "markdown",
   "id": "a99972f1",
   "metadata": {
    "id": "a99972f1"
   },
   "source": [
    "### Q1. What's the optimal $q$ for this naive linear score and what score does it get?"
   ]
  },
  {
   "cell_type": "code",
   "execution_count": 99,
   "id": "a04842d5-a668-4834-935c-3939096f8168",
   "metadata": {},
   "outputs": [
    {
     "data": {
      "text/html": [
       "<table border=\"1\" class=\"dataframe\">\n",
       "    <thead>\n",
       "        <tr>\n",
       "            <th>P_Head</th> <th>Lin score</th>\n",
       "        </tr>\n",
       "    </thead>\n",
       "    <tbody>\n",
       "        <tr>\n",
       "            <td>1     </td> <td>0.6      </td>\n",
       "        </tr>\n",
       "        <tr>\n",
       "            <td>0.95  </td> <td>0.59     </td>\n",
       "        </tr>\n",
       "        <tr>\n",
       "            <td>0.9   </td> <td>0.58     </td>\n",
       "        </tr>\n",
       "        <tr>\n",
       "            <td>0.85  </td> <td>0.57     </td>\n",
       "        </tr>\n",
       "        <tr>\n",
       "            <td>0.8   </td> <td>0.56     </td>\n",
       "        </tr>\n",
       "        <tr>\n",
       "            <td>0.75  </td> <td>0.55     </td>\n",
       "        </tr>\n",
       "        <tr>\n",
       "            <td>0.7   </td> <td>0.54     </td>\n",
       "        </tr>\n",
       "        <tr>\n",
       "            <td>0.65  </td> <td>0.53     </td>\n",
       "        </tr>\n",
       "        <tr>\n",
       "            <td>0.6   </td> <td>0.52     </td>\n",
       "        </tr>\n",
       "    </tbody>\n",
       "</table>\n",
       "<p>... (12 rows omitted)</p>"
      ],
      "text/plain": [
       "<IPython.core.display.HTML object>"
      ]
     },
     "metadata": {},
     "output_type": "display_data"
    }
   ],
   "source": [
    "from datascience import *\n",
    "\n",
    "lin_score = make_array()\n",
    "for p in np.arange(0, 1.01, 0.05):\n",
    "    q = (p, (1 - p))\n",
    "    lin_score = np.append(lin_score, expected_linear_score(q, biased_coin))\n",
    "lin_score_table = Table().with_columns(\n",
    "    \"P_Head\", np.arange(0, 1.01, 0.05),\n",
    "    \"Lin score\", score)\n",
    "lin_score_table.sort(\"Lin score\", descending=True).show(np.count_nonzero(lin_score_table.column(\"Lin score\") >= 0.52))"
   ]
  },
  {
   "cell_type": "markdown",
   "id": "eefb4271",
   "metadata": {
    "id": "eefb4271"
   },
   "source": [
    "For all q with the first item > 0.6, we have a better expected score than 0.52. The more the probability of head the more the expected score.  "
   ]
  },
  {
   "cell_type": "markdown",
   "id": "abd51234",
   "metadata": {
    "id": "abd51234"
   },
   "source": [
    "### Q2. Plot the naive linear score for all possible forecasts $q$. Is the naive linear score a proper scoring rule? Explain why or why not."
   ]
  },
  {
   "cell_type": "code",
   "execution_count": 100,
   "id": "11993b93-2d1a-4072-83f8-2fb7b7937da4",
   "metadata": {},
   "outputs": [
    {
     "data": {
      "image/png": "[encoded data removed]",
      "text/plain": [
       "<Figure size 500x500 with 1 Axes>"
      ]
     },
     "metadata": {},
     "output_type": "display_data"
    }
   ],
   "source": [
    "plt.figure(figsize=(5,5))\n",
    "plt.xlim(0, 1)\n",
    "plt.ylim(0.3, 0.6)\n",
    "\n",
    "plt.plot(lin_score_table.column(\"P_Head\"), lin_score_table.column(\"Lin score\"), label=\"Linear Score\") \n",
    "plt.axvline(0.6, color='red', label=\"True Probability (0.6)\")\n",
    "plt.legend()\n",
    "plt.show()"
   ]
  },
  {
   "cell_type": "markdown",
   "id": "ebe05e82",
   "metadata": {
    "id": "ebe05e82"
   },
   "source": [
    "The Naive Linear Score isn't a proper score rule as it doesn't maximize when the forecast matches the probability."
   ]
  },
  {
   "cell_type": "markdown",
   "id": "ab9cc20c",
   "metadata": {
    "id": "ab9cc20c"
   },
   "source": [
    "# II. Logarithmic Score\n",
    "\n",
    "As we saw in lecture, Good's logarithmic scoring rule is defined as:\n",
    "\n",
    "$$f(q, i) = \\log(q_i)$$\n",
    "\n",
    "We've implemented a function to calculate the expected logarithmic score of a coin flip forecast below. Again, a higher score is better."
   ]
  },
  {
   "cell_type": "code",
   "execution_count": 101,
   "id": "c06e1443",
   "metadata": {
    "id": "c06e1443"
   },
   "outputs": [],
   "source": [
    "def expected_log_score(q, true_dist):\n",
    "    check_distributions(q, true_dist)\n",
    "    assert(min(q) > 0 and min(true_dist) > 0), \"Choose nonzero probabilities\" # avoid undefined scores\n",
    "\n",
    "    return np.dot(np.log(q), true_dist)"
   ]
  },
  {
   "cell_type": "markdown",
   "id": "d2e328e3",
   "metadata": {
    "id": "d2e328e3"
   },
   "source": [
    "We'll continue using the biased coin that lands Heads 60% of the time."
   ]
  },
  {
   "cell_type": "code",
   "execution_count": 102,
   "id": "4e213a51",
   "metadata": {
    "id": "4e213a51"
   },
   "outputs": [
    {
     "data": {
      "text/plain": [
       "-2.7637024117930049"
      ]
     },
     "execution_count": 102,
     "metadata": {},
     "output_type": "execute_result"
    }
   ],
   "source": [
    "q = (0.999, 0.001)\n",
    "expected_log_score(q, biased_coin)"
   ]
  },
  {
   "cell_type": "markdown",
   "id": "8a6b4e93",
   "metadata": {
    "id": "8a6b4e93"
   },
   "source": [
    "### Q3. What's the logarithmic score for $q = (0.2, 0.8)$? For $q = (0.5, 0.5)$? For $q = (0.999, 0.001)$?"
   ]
  },
  {
   "cell_type": "markdown",
   "id": "6c72c36b",
   "metadata": {
    "id": "6c72c36b"
   },
   "source": [
    "q = (0.2, 0.8) == -1.054920167986144;\n",
    "q = (0.5, 0.5) == -0.69314718055994529;\n",
    "q = (0.999, 0.001) == -2.7637024117930049"
   ]
  },
  {
   "cell_type": "markdown",
   "id": "e1d43593",
   "metadata": {
    "id": "e1d43593"
   },
   "source": [
    "### Q4. Plot the logarithmic score for all possible forecasts $q$."
   ]
  },
  {
   "cell_type": "code",
   "execution_count": 115,
   "id": "be5a1911-cf38-4058-8f8f-d446f930f41a",
   "metadata": {},
   "outputs": [
    {
     "data": {
      "text/html": [
       "<table border=\"1\" class=\"dataframe\">\n",
       "    <thead>\n",
       "        <tr>\n",
       "            <th>P_Head</th> <th>Log score</th>\n",
       "        </tr>\n",
       "    </thead>\n",
       "    <tbody>\n",
       "        <tr>\n",
       "            <td>0.01  </td> <td>-2.76712 </td>\n",
       "        </tr>\n",
       "        <tr>\n",
       "            <td>0.011 </td> <td>-2.71034 </td>\n",
       "        </tr>\n",
       "        <tr>\n",
       "            <td>0.012 </td> <td>-2.65854 </td>\n",
       "        </tr>\n",
       "        <tr>\n",
       "            <td>0.013 </td> <td>-2.61092 </td>\n",
       "        </tr>\n",
       "        <tr>\n",
       "            <td>0.014 </td> <td>-2.56686 </td>\n",
       "        </tr>\n",
       "    </tbody>\n",
       "</table>\n",
       "<p>... (985 rows omitted)</p>"
      ],
      "text/plain": [
       "<IPython.core.display.HTML object>"
      ]
     },
     "metadata": {},
     "output_type": "display_data"
    }
   ],
   "source": [
    "log_score = make_array()\n",
    "for p in np.arange(0.01, 1.00, 0.001):\n",
    "    q = (p, (1 - p))\n",
    "    log_score = np.append(log_score, expected_log_score(q, biased_coin))\n",
    "log_score_table = Table().with_columns(\n",
    "    \"P_Head\", np.arange(0.01, 1.00, 0.001),\n",
    "    \"Log score\", log_score)\n",
    "log_score_table.show(5)"
   ]
  },
  {
   "cell_type": "code",
   "execution_count": 116,
   "id": "57f9d251-813a-422f-8c24-bd6e97304e97",
   "metadata": {},
   "outputs": [
    {
     "data": {
      "image/png": "[encoded data removed]",
      "text/plain": [
       "<Figure size 500x500 with 1 Axes>"
      ]
     },
     "metadata": {},
     "output_type": "display_data"
    }
   ],
   "source": [
    "plt.figure(figsize=(5,5))\n",
    "plt.xlim(0, 1)\n",
    "plt.ylim(min(log_score_table.column(\"Log score\")),max(log_score_table.column(\"Log score\")))\n",
    "\n",
    "plt.plot(log_score_table.column(\"P_Head\"), log_score_table.column(\"Log score\"), label=\"Log Score\") \n",
    "plt.axvline(0.6, color='red', label=\"True Probability (0.6)\")\n",
    "plt.legend()\n",
    "plt.show()"
   ]
  },
  {
   "cell_type": "markdown",
   "id": "e71681dd",
   "metadata": {
    "id": "e71681dd"
   },
   "source": [
    "Your answer here."
   ]
  },
  {
   "cell_type": "markdown",
   "id": "fe861b85",
   "metadata": {
    "id": "fe861b85"
   },
   "source": [
    "### Q5. What's the optimal $q$ for the logarithmic score, when forecasting the biased coin? Is the logarithmic score a proper scoring rule?"
   ]
  },
  {
   "cell_type": "markdown",
   "id": "e37a3b56",
   "metadata": {
    "id": "e37a3b56"
   },
   "source": [
    "The optimal q is 0.6. With logarithmic score, the optimal q is the same as the probability. We can therefore say that the logarithmic score is a proper scoring rule as it maximizes the forecast when q = p."
   ]
  },
  {
   "cell_type": "markdown",
   "id": "8255ad23",
   "metadata": {
    "id": "8255ad23"
   },
   "source": [
    "# III. Brier's Quadratic Score\n",
    "\n",
    "Also seen in lecture, Brier's quadratic scoring rule is defined as:\n",
    "\n",
    "$$f(q, i) = -\\sum_{j=1}^n (q_j - o_{ij})^2 $$\n",
    "\n",
    "where $o_{ij} = 1$ if $i = j$ and 0 otherwise. This expression can be equivalently written as:\n",
    "\n",
    "$$f(q, i) = 2q_i - 1 - \\sum_{j=1}^n q_j^2$$"
   ]
  },
  {
   "cell_type": "markdown",
   "id": "57405e61",
   "metadata": {
    "id": "57405e61"
   },
   "source": [
    "### Q6. Implement the function `expected_quad_score` below to calculate the expected quadratic score given a forecast and a true distribution."
   ]
  },
  {
   "cell_type": "code",
   "execution_count": 105,
   "id": "cdbee22e",
   "metadata": {
    "id": "cdbee22e"
   },
   "outputs": [],
   "source": [
    "def expected_quad_score(q, true_dist):\n",
    "    check_distributions(q, true_dist)\n",
    "\n",
    "    score = -sum((q_i - p_i) ** 2 for q_i, p_i in zip(q, true_dist))\n",
    "\n",
    "    return score"
   ]
  },
  {
   "cell_type": "markdown",
   "id": "bc588d87",
   "metadata": {
    "id": "bc588d87"
   },
   "source": [
    "### Q7. Plot the quadratic score for all possible forecasts for the biased coin."
   ]
  },
  {
   "cell_type": "code",
   "execution_count": 106,
   "id": "35bad5f2-4b13-4937-ada1-a0994fb7ff1c",
   "metadata": {},
   "outputs": [
    {
     "data": {
      "text/html": [
       "<table border=\"1\" class=\"dataframe\">\n",
       "    <thead>\n",
       "        <tr>\n",
       "            <th>P_Head</th> <th>Quad score</th>\n",
       "        </tr>\n",
       "    </thead>\n",
       "    <tbody>\n",
       "        <tr>\n",
       "            <td>0     </td> <td>-0.72     </td>\n",
       "        </tr>\n",
       "        <tr>\n",
       "            <td>0.05  </td> <td>-0.605    </td>\n",
       "        </tr>\n",
       "        <tr>\n",
       "            <td>0.1   </td> <td>-0.5      </td>\n",
       "        </tr>\n",
       "        <tr>\n",
       "            <td>0.15  </td> <td>-0.405    </td>\n",
       "        </tr>\n",
       "        <tr>\n",
       "            <td>0.2   </td> <td>-0.32     </td>\n",
       "        </tr>\n",
       "    </tbody>\n",
       "</table>\n",
       "<p>... (16 rows omitted)</p>"
      ],
      "text/plain": [
       "<IPython.core.display.HTML object>"
      ]
     },
     "metadata": {},
     "output_type": "display_data"
    }
   ],
   "source": [
    "quad_score = make_array()\n",
    "for p in np.arange(0.0, 1.01, 0.05):\n",
    "    q = (p, (1 - p))\n",
    "    quad_score = np.append(quad_score, expected_quad_score(q, biased_coin))\n",
    "quad_score_table = Table().with_columns(\n",
    "    \"P_Head\", np.arange(0.0, 1.01, 0.05),\n",
    "    \"Quad score\", quad_score)\n",
    "quad_score_table.show(5)"
   ]
  },
  {
   "cell_type": "code",
   "execution_count": 107,
   "id": "800099e4-c9d1-4fbd-b2e8-69d04260f376",
   "metadata": {},
   "outputs": [
    {
     "data": {
      "image/png": "[encoded data removed]",
      "text/plain": [
       "<Figure size 500x500 with 1 Axes>"
      ]
     },
     "metadata": {},
     "output_type": "display_data"
    }
   ],
   "source": [
    "plt.figure(figsize=(5,5))\n",
    "plt.xlim(0, 1)\n",
    "plt.ylim(min(quad_score_table.column(\"Quad score\")),max(quad_score_table.column(\"Quad score\")))\n",
    "\n",
    "plt.plot(quad_score_table.column(\"P_Head\"), quad_score_table.column(\"Quad score\"), label=\"Quad Score\") \n",
    "plt.axvline(0.6, color='red', label=\"True Probability (0.6)\")\n",
    "plt.legend()\n",
    "plt.show()"
   ]
  },
  {
   "cell_type": "markdown",
   "id": "ebf885c8",
   "metadata": {
    "id": "ebf885c8"
   },
   "source": [
    "We see that q is also maximizes at 0.6 so when = probability. We can therefore conclude that the quadratic score is also a proper scoring rule."
   ]
  },
  {
   "cell_type": "markdown",
   "id": "d988f268",
   "metadata": {
    "id": "d988f268"
   },
   "source": [
    "# IV. Logarithmic vs. Quadratic Scoring Rules"
   ]
  },
  {
   "cell_type": "markdown",
   "id": "ed5742dc",
   "metadata": {
    "id": "ed5742dc"
   },
   "source": [
    "### Q8. Rare events.\n",
    "Imagine you and your friend Alice are competing to see who is the better forecaster. You know that you are generally better than Alice at being precise about the probabilities of rare events -- for example, once something is rarer than a 1 in 100 chance, Alice treats that as having a 1 in 100 probability, while you are good at differentiating between things that are 1 in 100 and those that are 1 in a 10 thousand. **If you want a forecasting competition to show your advantage on this, would you rather have the scoring rule be logarithmic or quadratic? Why?**\n"
   ]
  },
  {
   "cell_type": "markdown",
   "id": "781d6c1b",
   "metadata": {
    "id": "781d6c1b"
   },
   "source": [
    "In this case, I would prefer a logarithmic scoring rule as it penalizes more the misestimation of small probabilities. With the quadratic scoring rule, my accurates small probabilities predictions wouldn't be as much rewarded. Looking at the chart we made above, this assumption makes sense."
   ]
  },
  {
   "cell_type": "markdown",
   "id": "2ddada8a",
   "metadata": {
    "id": "2ddada8a"
   },
   "source": [
    "### Q9. Precision in the middle\n",
    "\n",
    "Now imagine you are competing against your friend Bob. He's quite good at estimating rare event probabilities. However, you notice that when an two things both have substantial probabililty of happening, he tends to just forecast 50%, while you are good at evaluating considerations that push you to make more precise forecasts, such as 42-58. **Would you rather compete with Bob on a log score or quadratic score? Why?**"
   ]
  },
  {
   "cell_type": "markdown",
   "id": "43d1dab0",
   "metadata": {
    "id": "43d1dab0"
   },
   "source": [
    "In this case, I would prefer a quadratic scoring rule, as the logarthmic scoring rule will more penalizes the misestimation of small probabilities while the quadratic rule penalizes the overall calibration of predictions. Looking at the chart we made above, this assumption makes sense."
   ]
  },
  {
   "cell_type": "markdown",
   "id": "77d61a61",
   "metadata": {
    "id": "77d61a61"
   },
   "source": [
    "### Q10. More than two options\n",
    "\n",
    "Imagine you are forecasting which of the Final Four teams (Teams A, B, C, and D) in a tournament will be the champion. You believe the teams chances are, in order: 5%, 10%, 60%, 25%. You submit this forecast, and Team C wins, so you are pretty happy you put a high probability on that outcome! Then you learn that someone else who also put a 60% chance on Team C got a higher quadratic score than you. **How is this possible? Give an example of a forecast that would beat your quadratic score.**"
   ]
  },
  {
   "cell_type": "code",
   "execution_count": 108,
   "id": "8890f736-fce2-476b-936d-be9bf2d33503",
   "metadata": {},
   "outputs": [
    {
     "data": {
      "text/plain": [
       "-0.23500000000000004"
      ]
     },
     "execution_count": 108,
     "metadata": {},
     "output_type": "execute_result"
    }
   ],
   "source": [
    "# Let's compute our score with this prediction\n",
    "my_prediction = -sum([(0.05-0)**2, (0.1-0)**2, (0.6-1)**2, (0.25-0)**2]) \n",
    "my_prediction"
   ]
  },
  {
   "cell_type": "markdown",
   "id": "0ab4c810-77fe-43ea-b738-3f8f5d86d6f2",
   "metadata": {},
   "source": [
    "We can see now that our prediction is accurate but the quadratic scoring rule will be more rewarding for a prediction which balances more the chances of winning between all the options."
   ]
  },
  {
   "cell_type": "code",
   "execution_count": 109,
   "id": "4190972d-e630-4859-94d8-1840702932d5",
   "metadata": {},
   "outputs": [
    {
     "data": {
      "text/plain": [
       "-0.21500000000000002"
      ]
     },
     "execution_count": 109,
     "metadata": {},
     "output_type": "execute_result"
    }
   ],
   "source": [
    "# Let's compute another score with minimal predictions for other teams\n",
    "other_prediction = -sum([(0.15-0)**2, (0.15-0)**2, (0.6-1)**2, (0.1-0)**2]) \n",
    "other_prediction"
   ]
  },
  {
   "cell_type": "markdown",
   "id": "ebf31eb3",
   "metadata": {
    "id": "ebf31eb3"
   },
   "source": [
    "Therefore, the quadratic scoring rule rewards the overall prediction and not only choosing the right winner. The more the difference between your higher prediction chances with other predictions, the more you'll be rewarded. Therefore when using a quadratic score rule with more than 2 options, you should balance your probabilities between all the possible options apart from your main forecast to maximize your quadratic score."
   ]
  },
  {
   "cell_type": "markdown",
   "id": "9ce9e1d0",
   "metadata": {},
   "source": [
    "### Submission\n",
    "\n",
    "Follow the instructions at the top, which detail how to submit this notebook to Gradescope."
   ]
  }
 ],
 "metadata": {
  "colab": {
   "provenance": []
  },
  "kernelspec": {
   "display_name": "Python 3 (ipykernel)",
   "language": "python",
   "name": "python3"
  },
  "language_info": {
   "codemirror_mode": {
    "name": "ipython",
    "version": 3
   },
   "file_extension": ".py",
   "mimetype": "text/x-python",
   "name": "python",
   "nbconvert_exporter": "python",
   "pygments_lexer": "ipython3",
   "version": "3.11.11"
  }
 },
 "nbformat": 4,
 "nbformat_minor": 5
}
